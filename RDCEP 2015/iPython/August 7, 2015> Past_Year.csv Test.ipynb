{
 "cells": [
  {
   "cell_type": "code",
   "execution_count": 1,
   "metadata": {
    "collapsed": true
   },
   "outputs": [],
   "source": [
    "import matplotlib.pyplot as plt\n",
    "import pandas as pd"
   ]
  },
  {
   "cell_type": "code",
   "execution_count": 2,
   "metadata": {
    "collapsed": false
   },
   "outputs": [],
   "source": [
    "df = pd.read_csv(\"Past_Year.csv\")"
   ]
  },
  {
   "cell_type": "code",
   "execution_count": 3,
   "metadata": {
    "collapsed": false
   },
   "outputs": [
    {
     "data": {
      "text/html": [
       "<div>\n",
       "<table border=\"1\" class=\"dataframe\">\n",
       "  <thead>\n",
       "    <tr style=\"text-align: right;\">\n",
       "      <th></th>\n",
       "      <th>ID</th>\n",
       "      <th>Case Number</th>\n",
       "      <th>Date</th>\n",
       "      <th>Block</th>\n",
       "      <th>IUCR</th>\n",
       "      <th>Primary Type</th>\n",
       "      <th>Description</th>\n",
       "      <th>Location Description</th>\n",
       "      <th>Arrest</th>\n",
       "      <th>Domestic</th>\n",
       "      <th>...</th>\n",
       "      <th>Ward</th>\n",
       "      <th>Community Area</th>\n",
       "      <th>FBI Code</th>\n",
       "      <th>X Coordinate</th>\n",
       "      <th>Y Coordinate</th>\n",
       "      <th>Year</th>\n",
       "      <th>Updated On</th>\n",
       "      <th>Latitude</th>\n",
       "      <th>Longitude</th>\n",
       "      <th>Location</th>\n",
       "    </tr>\n",
       "  </thead>\n",
       "  <tbody>\n",
       "    <tr>\n",
       "      <th>0</th>\n",
       "      <td>10161455</td>\n",
       "      <td>HY349612</td>\n",
       "      <td>07/01/2014 12:00:00 AM</td>\n",
       "      <td>053XX S DREXEL AVE</td>\n",
       "      <td>0820</td>\n",
       "      <td>THEFT</td>\n",
       "      <td>$500 AND UNDER</td>\n",
       "      <td>RESIDENCE PORCH/HALLWAY</td>\n",
       "      <td>False</td>\n",
       "      <td>False</td>\n",
       "      <td>...</td>\n",
       "      <td>5</td>\n",
       "      <td>41</td>\n",
       "      <td>06</td>\n",
       "      <td>1183114</td>\n",
       "      <td>1869621</td>\n",
       "      <td>2014</td>\n",
       "      <td>07/27/2015 12:46:33 PM</td>\n",
       "      <td>41.797439</td>\n",
       "      <td>-87.604023</td>\n",
       "      <td>(41.797439371, -87.604022633)</td>\n",
       "    </tr>\n",
       "    <tr>\n",
       "      <th>1</th>\n",
       "      <td>10116693</td>\n",
       "      <td>HY305422</td>\n",
       "      <td>07/01/2014 12:00:00 AM</td>\n",
       "      <td>058XX S HOMAN AVE</td>\n",
       "      <td>0820</td>\n",
       "      <td>THEFT</td>\n",
       "      <td>$500 AND UNDER</td>\n",
       "      <td>RESIDENCE</td>\n",
       "      <td>False</td>\n",
       "      <td>False</td>\n",
       "      <td>...</td>\n",
       "      <td>14</td>\n",
       "      <td>63</td>\n",
       "      <td>06</td>\n",
       "      <td>1154666</td>\n",
       "      <td>1865886</td>\n",
       "      <td>2014</td>\n",
       "      <td>06/22/2015 12:40:19 PM</td>\n",
       "      <td>41.787805</td>\n",
       "      <td>-87.708445</td>\n",
       "      <td>(41.78780494, -87.708445456)</td>\n",
       "    </tr>\n",
       "    <tr>\n",
       "      <th>2</th>\n",
       "      <td>10072332</td>\n",
       "      <td>HY260886</td>\n",
       "      <td>07/01/2014 12:00:00 AM</td>\n",
       "      <td>032XX W 27TH ST</td>\n",
       "      <td>1544</td>\n",
       "      <td>SEX OFFENSE</td>\n",
       "      <td>SEXUAL EXPLOITATION OF A CHILD</td>\n",
       "      <td>RESIDENCE</td>\n",
       "      <td>False</td>\n",
       "      <td>True</td>\n",
       "      <td>...</td>\n",
       "      <td>22</td>\n",
       "      <td>30</td>\n",
       "      <td>17</td>\n",
       "      <td>1155277</td>\n",
       "      <td>1885850</td>\n",
       "      <td>2014</td>\n",
       "      <td>05/25/2015 12:37:36 PM</td>\n",
       "      <td>41.842577</td>\n",
       "      <td>-87.705670</td>\n",
       "      <td>(41.842576585, -87.705670477)</td>\n",
       "    </tr>\n",
       "  </tbody>\n",
       "</table>\n",
       "<p>3 rows × 22 columns</p>\n",
       "</div>"
      ],
      "text/plain": [
       "         ID Case Number                    Date               Block  IUCR  \\\n",
       "0  10161455    HY349612  07/01/2014 12:00:00 AM  053XX S DREXEL AVE  0820   \n",
       "1  10116693    HY305422  07/01/2014 12:00:00 AM   058XX S HOMAN AVE  0820   \n",
       "2  10072332    HY260886  07/01/2014 12:00:00 AM     032XX W 27TH ST  1544   \n",
       "\n",
       "  Primary Type                     Description     Location Description  \\\n",
       "0        THEFT                  $500 AND UNDER  RESIDENCE PORCH/HALLWAY   \n",
       "1        THEFT                  $500 AND UNDER                RESIDENCE   \n",
       "2  SEX OFFENSE  SEXUAL EXPLOITATION OF A CHILD                RESIDENCE   \n",
       "\n",
       "  Arrest Domestic              ...                Ward  Community Area  \\\n",
       "0  False    False              ...                   5              41   \n",
       "1  False    False              ...                  14              63   \n",
       "2  False     True              ...                  22              30   \n",
       "\n",
       "   FBI Code  X Coordinate Y Coordinate  Year              Updated On  \\\n",
       "0        06       1183114      1869621  2014  07/27/2015 12:46:33 PM   \n",
       "1        06       1154666      1865886  2014  06/22/2015 12:40:19 PM   \n",
       "2        17       1155277      1885850  2014  05/25/2015 12:37:36 PM   \n",
       "\n",
       "    Latitude  Longitude                       Location  \n",
       "0  41.797439 -87.604023  (41.797439371, -87.604022633)  \n",
       "1  41.787805 -87.708445   (41.78780494, -87.708445456)  \n",
       "2  41.842577 -87.705670  (41.842576585, -87.705670477)  \n",
       "\n",
       "[3 rows x 22 columns]"
      ]
     },
     "execution_count": 3,
     "metadata": {},
     "output_type": "execute_result"
    }
   ],
   "source": [
    "df.head(3)"
   ]
  },
  {
   "cell_type": "code",
   "execution_count": null,
   "metadata": {
    "collapsed": true
   },
   "outputs": [],
   "source": []
  }
 ],
 "metadata": {
  "kernelspec": {
   "display_name": "Python 3",
   "language": "python",
   "name": "python3"
  },
  "language_info": {
   "codemirror_mode": {
    "name": "ipython",
    "version": 3
   },
   "file_extension": ".py",
   "mimetype": "text/x-python",
   "name": "python",
   "nbconvert_exporter": "python",
   "pygments_lexer": "ipython3",
   "version": "3.4.3"
  }
 },
 "nbformat": 4,
 "nbformat_minor": 0
}
