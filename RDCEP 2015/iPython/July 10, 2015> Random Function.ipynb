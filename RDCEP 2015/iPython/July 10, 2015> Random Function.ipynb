{
 "cells": [
  {
   "cell_type": "code",
   "execution_count": 2,
   "metadata": {
    "collapsed": true
   },
   "outputs": [],
   "source": [
    "import random as rdm"
   ]
  },
  {
   "cell_type": "code",
   "execution_count": 3,
   "metadata": {
    "collapsed": true
   },
   "outputs": [],
   "source": [
    "def rand_pairs(names):\n",
    "    pair = []             #list of names\n",
    "    indices = len(names) - 1\n",
    "    for i in range(4):\n",
    "        index = rdm.randint(0,indices)\n",
    "        name = names[index]\n",
    "        if name in pair:\n",
    "            while name in pair:\n",
    "                index = rdm.randint(0,indices)\n",
    "                name = names[index]\n",
    "        pair.append(name)\n",
    "        \n",
    "    return pair  "
   ]
  },
  {
   "cell_type": "code",
   "execution_count": 4,
   "metadata": {
    "collapsed": false
   },
   "outputs": [],
   "source": [
    "names = [\"danica\",\"gustavo\",\"abisola\",\"denise\",\"stacy\",\"mitch\",\"anthony\",\"ben\"]"
   ]
  },
  {
   "cell_type": "code",
   "execution_count": 5,
   "metadata": {
    "collapsed": false
   },
   "outputs": [
    {
     "data": {
      "text/plain": [
       "['danica', 'stacy', 'anthony', 'gustavo']"
      ]
     },
     "execution_count": 5,
     "metadata": {},
     "output_type": "execute_result"
    }
   ],
   "source": [
    "rand_pairs(names)"
   ]
  },
  {
   "cell_type": "code",
   "execution_count": 6,
   "metadata": {
    "collapsed": false
   },
   "outputs": [
    {
     "name": "stdout",
     "output_type": "stream",
     "text": [
      "['denise', 'stacy', 'ben', 'gustavo']\n",
      "['mitch', 'abisola', 'stacy', 'anthony']\n",
      "['mitch', 'abisola', 'anthony', 'danica']\n",
      "['anthony', 'stacy', 'gustavo', 'denise']\n"
     ]
    }
   ],
   "source": [
    "for i in range(4):\n",
    "    print(rand_pairs(names))"
   ]
  },
  {
   "cell_type": "code",
   "execution_count": null,
   "metadata": {
    "collapsed": true
   },
   "outputs": [],
   "source": []
  }
 ],
 "metadata": {
  "kernelspec": {
   "display_name": "Python 3",
   "language": "python",
   "name": "python3"
  },
  "language_info": {
   "codemirror_mode": {
    "name": "ipython",
    "version": 3
   },
   "file_extension": ".py",
   "mimetype": "text/x-python",
   "name": "python",
   "nbconvert_exporter": "python",
   "pygments_lexer": "ipython3",
   "version": "3.4.3"
  }
 },
 "nbformat": 4,
 "nbformat_minor": 0
}
