{
 "cells": [
  {
   "cell_type": "code",
   "execution_count": 5,
   "metadata": {
    "collapsed": false
   },
   "outputs": [
    {
     "name": "stdout",
     "output_type": "stream",
     "text": [
      "defaultdict(<class 'list'>, {'X': ['1854-04-01', '1854-05-01', '1854-06-01', '1854-07-01', '1854-08-01', '1854-09-01', '1854-10-01', '1854-11-01', '1854-12-01', '1855-01-01', '1855-02-01', '1855-03-01', '1855-04-01', '1855-05-01', '1855-06-01', '1855-07-01', '1855-08-01', '1855-09-01', '1855-10-01', '1855-11-01', '1855-12-01', '1856-01-01', '1856-02-01', '1856-03-01'], None: [[''], [''], [''], [''], [''], [''], [''], [''], [''], [''], [''], [''], [''], [''], [''], [''], [''], [''], [''], [''], [''], [''], [''], ['']], 'Zymotic diseases_y': ['1', '12', '11', '359', '828', '788', '503', '844', '1725', '2761', '2120', '1205', '477', '508', '802', '382', '483', '189', '128', '178', '91', '42', '24', '15']})\n"
     ]
    }
   ],
   "source": [
    "__author__ = 'Ben'\n",
    "\"\"\"This file, when run, will create a bar plot of the FlorenceN data\"\"\"\n",
    "#The Python Plotting module is named plt for this file, so I can use it more easliy\n",
    "import matplotlib.pyplot as plt\n",
    "#Numpy (Numerical Python)\n",
    "import numpy as np\n",
    "#the CSV module is used to read data from csv files\n",
    "import csv\n",
    "#Collections.defaultdict is used for storing data into dictionaries\n",
    "from collections import defaultdict\n",
    "\n",
    "#Save the location of the file I am going to be reading from\n",
    "#location=\"C:\\\\Users\\Ben\\Desktop\\FlorenceN.csv\"\n",
    "#Creates an empty list to  store the data with\n",
    "columns=defaultdict(list)\n",
    "#Sets the file containing data to be local variable f\n",
    "with open('FlorenceN.csv') as f:\n",
    "        #sets up a dictionary reader that reads from file f\n",
    "        reader=csv.DictReader(f)\n",
    "        #accesses each element in the list reader\n",
    "        for row in reader:\n",
    "            #Accesses each sub-element in the list that is an element of the list reader\n",
    "            for (k,v) in row.items():\n",
    "                    #Appends each datum to the empty dictionary we created earlier\n",
    "                    columns[k].append(v)\n",
    "#Prints columns in order to make sure the data are correct\n",
    "print(columns)\n",
    "#creates a list of all th death counts\n",
    "ZymoticD=[int(i) for i in columns['Zymotic diseases_y']]\n",
    "#Sets the width of each column in the bar chart to be .5 inches\n",
    "width=.5\n",
    "#creates a range of values that will be used as the y list\n",
    "n=np.arange(len(ZymoticD))\n",
    "#creates the bar chart\n",
    "p1=plt.bar(n, ZymoticD, color='r')\n",
    "#labels the y axis\n",
    "plt.ylabel('Deaths')\n",
    "#labels the x axis\n",
    "plt.xlabel('Date(1 bar represents 1 week)')\n",
    "#labels the title\n",
    "plt.title('Deaths(per week) due to Zymotic Diseases')\n",
    "#Plots the x Axis\n",
    "xAxis = columns['X']\n",
    "#Adds scale on y axis\n",
    "plt.yticks(np.arange(0,3000,500))\n",
    "#Adds scale on x axis\n",
    "plt.xticks(np.arange(0,24,5), (columns['X']))\n",
    "#shows plot\n",
    "plt.show()"
   ]
  },
  {
   "cell_type": "code",
   "execution_count": null,
   "metadata": {
    "collapsed": true
   },
   "outputs": [],
   "source": []
  }
 ],
 "metadata": {
  "kernelspec": {
   "display_name": "Python 3",
   "language": "python",
   "name": "python3"
  },
  "language_info": {
   "codemirror_mode": {
    "name": "ipython",
    "version": 3
   },
   "file_extension": ".py",
   "mimetype": "text/x-python",
   "name": "python",
   "nbconvert_exporter": "python",
   "pygments_lexer": "ipython3",
   "version": "3.4.3"
  }
 },
 "nbformat": 4,
 "nbformat_minor": 0
}
